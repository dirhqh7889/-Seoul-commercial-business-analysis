{
 "cells": [
  {
   "cell_type": "markdown",
   "metadata": {},
   "source": [
    "# 서울의 업종별 지역\n",
    "    *1. 서울에 어떠한 업종이 있는지 확인\n",
    "    *2. 업종별로 어느 지역에 많이 분포되어 있는지 확인"
   ]
  },
  {
   "cell_type": "markdown",
   "metadata": {},
   "source": [
    "## 환경 구축"
   ]
  },
  {
   "cell_type": "code",
   "execution_count": 1,
   "metadata": {},
   "outputs": [],
   "source": [
    "#라이브러리 로드\n",
    "import pandas as pd\n",
    "import seaborn as sns\n",
    "import matplotlib.pyplot as plt\n"
   ]
  },
  {
   "cell_type": "code",
   "execution_count": 2,
   "metadata": {},
   "outputs": [],
   "source": [
    "#한글폰드 설정\n",
    "plt.rc(\"font\", family = \"Malgun Gothic\")\n",
    "plt.rc(\"axes\", unicode_minus=False)"
   ]
  },
  {
   "cell_type": "code",
   "execution_count": 3,
   "metadata": {},
   "outputs": [
    {
     "name": "stdout",
     "output_type": "stream",
     "text": [
      " C 드라이브의 볼륨에는 이름이 없습니다.\n",
      " 볼륨 일련 번호: 9AB7-47B5\n",
      "\n",
      " C:\\Users\\dirhq\\Untitled Folder 1\\data 디렉터리\n",
      "\n",
      "2020-11-30  오후 05:18    <DIR>          .\n",
      "2020-11-30  오후 05:18    <DIR>          ..\n",
      "2020-11-30  오전 11:16            57,732 seoul_municipalities_geo_simple.json\n",
      "2020-11-30  오전 11:17       264,920,940 상가업소정보_201912_01.csv\n",
      "               2개 파일         264,978,672 바이트\n",
      "               2개 디렉터리  30,942,945,280 바이트 남음\n"
     ]
    }
   ],
   "source": [
    "%ls data"
   ]
  },
  {
   "cell_type": "code",
   "execution_count": 4,
   "metadata": {},
   "outputs": [
    {
     "data": {
      "text/plain": [
       "(573680, 39)"
      ]
     },
     "execution_count": 4,
     "metadata": {},
     "output_type": "execute_result"
    }
   ],
   "source": [
    "df = pd.read_csv(\"data/상가업소정보_201912_01.csv\", sep='|' )\n",
    "df.shape"
   ]
  },
  {
   "cell_type": "code",
   "execution_count": 5,
   "metadata": {},
   "outputs": [],
   "source": [
    "# 모든 내용이 보이도록 컬럼을 39개로 지정\n",
    "pd.options.display.max_columns = 39"
   ]
  },
  {
   "cell_type": "code",
   "execution_count": 6,
   "metadata": {
    "scrolled": true
   },
   "outputs": [
    {
     "data": {
      "text/html": [
       "<div>\n",
       "<style scoped>\n",
       "    .dataframe tbody tr th:only-of-type {\n",
       "        vertical-align: middle;\n",
       "    }\n",
       "\n",
       "    .dataframe tbody tr th {\n",
       "        vertical-align: top;\n",
       "    }\n",
       "\n",
       "    .dataframe thead th {\n",
       "        text-align: right;\n",
       "    }\n",
       "</style>\n",
       "<table border=\"1\" class=\"dataframe\">\n",
       "  <thead>\n",
       "    <tr style=\"text-align: right;\">\n",
       "      <th></th>\n",
       "      <th>상가업소번호</th>\n",
       "      <th>상호명</th>\n",
       "      <th>지점명</th>\n",
       "      <th>상권업종대분류코드</th>\n",
       "      <th>상권업종대분류명</th>\n",
       "      <th>상권업종중분류코드</th>\n",
       "      <th>상권업종중분류명</th>\n",
       "      <th>상권업종소분류코드</th>\n",
       "      <th>상권업종소분류명</th>\n",
       "      <th>표준산업분류코드</th>\n",
       "      <th>표준산업분류명</th>\n",
       "      <th>시도코드</th>\n",
       "      <th>시도명</th>\n",
       "      <th>시군구코드</th>\n",
       "      <th>시군구명</th>\n",
       "      <th>행정동코드</th>\n",
       "      <th>행정동명</th>\n",
       "      <th>법정동코드</th>\n",
       "      <th>법정동명</th>\n",
       "      <th>지번코드</th>\n",
       "      <th>대지구분코드</th>\n",
       "      <th>대지구분명</th>\n",
       "      <th>지번본번지</th>\n",
       "      <th>지번부번지</th>\n",
       "      <th>지번주소</th>\n",
       "      <th>도로명코드</th>\n",
       "      <th>도로명</th>\n",
       "      <th>건물본번지</th>\n",
       "      <th>건물부번지</th>\n",
       "      <th>건물관리번호</th>\n",
       "      <th>건물명</th>\n",
       "      <th>도로명주소</th>\n",
       "      <th>구우편번호</th>\n",
       "      <th>신우편번호</th>\n",
       "      <th>동정보</th>\n",
       "      <th>층정보</th>\n",
       "      <th>호정보</th>\n",
       "      <th>경도</th>\n",
       "      <th>위도</th>\n",
       "    </tr>\n",
       "  </thead>\n",
       "  <tbody>\n",
       "    <tr>\n",
       "      <th>0</th>\n",
       "      <td>19905471</td>\n",
       "      <td>와라와라호프</td>\n",
       "      <td>NaN</td>\n",
       "      <td>Q</td>\n",
       "      <td>음식</td>\n",
       "      <td>Q09</td>\n",
       "      <td>유흥주점</td>\n",
       "      <td>Q09A01</td>\n",
       "      <td>호프/맥주</td>\n",
       "      <td>I56219</td>\n",
       "      <td>기타 주점업</td>\n",
       "      <td>11</td>\n",
       "      <td>서울특별시</td>\n",
       "      <td>11680</td>\n",
       "      <td>강남구</td>\n",
       "      <td>1168060000</td>\n",
       "      <td>대치1동</td>\n",
       "      <td>1168010600</td>\n",
       "      <td>대치동</td>\n",
       "      <td>1168010600206040000</td>\n",
       "      <td>1</td>\n",
       "      <td>대지</td>\n",
       "      <td>604</td>\n",
       "      <td>NaN</td>\n",
       "      <td>서울특별시 강남구 대치동 604</td>\n",
       "      <td>116802000003</td>\n",
       "      <td>서울특별시 강남구 남부순환로</td>\n",
       "      <td>2933</td>\n",
       "      <td>NaN</td>\n",
       "      <td>1168010600106040000014378</td>\n",
       "      <td>대치상가</td>\n",
       "      <td>서울특별시 강남구 남부순환로 2933</td>\n",
       "      <td>135280</td>\n",
       "      <td>6280.0</td>\n",
       "      <td>NaN</td>\n",
       "      <td>1</td>\n",
       "      <td>NaN</td>\n",
       "      <td>127.061026</td>\n",
       "      <td>37.493922</td>\n",
       "    </tr>\n",
       "    <tr>\n",
       "      <th>1</th>\n",
       "      <td>19911397</td>\n",
       "      <td>커피빈코리아선릉로93길점</td>\n",
       "      <td>코리아선릉로93길점</td>\n",
       "      <td>Q</td>\n",
       "      <td>음식</td>\n",
       "      <td>Q12</td>\n",
       "      <td>커피점/카페</td>\n",
       "      <td>Q12A01</td>\n",
       "      <td>커피전문점/카페/다방</td>\n",
       "      <td>I56220</td>\n",
       "      <td>비알콜 음료점업</td>\n",
       "      <td>11</td>\n",
       "      <td>서울특별시</td>\n",
       "      <td>11680</td>\n",
       "      <td>강남구</td>\n",
       "      <td>1168064000</td>\n",
       "      <td>역삼1동</td>\n",
       "      <td>1168010100</td>\n",
       "      <td>역삼동</td>\n",
       "      <td>1168010100206960042</td>\n",
       "      <td>1</td>\n",
       "      <td>대지</td>\n",
       "      <td>696</td>\n",
       "      <td>42.0</td>\n",
       "      <td>서울특별시 강남구 역삼동 696-42</td>\n",
       "      <td>116804166502</td>\n",
       "      <td>서울특별시 강남구 선릉로93길</td>\n",
       "      <td>6</td>\n",
       "      <td>NaN</td>\n",
       "      <td>1168010100106960042022041</td>\n",
       "      <td>NaN</td>\n",
       "      <td>서울특별시 강남구 선릉로93길 6</td>\n",
       "      <td>135080</td>\n",
       "      <td>6149.0</td>\n",
       "      <td>NaN</td>\n",
       "      <td>1</td>\n",
       "      <td>NaN</td>\n",
       "      <td>127.047883</td>\n",
       "      <td>37.505675</td>\n",
       "    </tr>\n",
       "    <tr>\n",
       "      <th>2</th>\n",
       "      <td>19911801</td>\n",
       "      <td>프로포즈</td>\n",
       "      <td>NaN</td>\n",
       "      <td>Q</td>\n",
       "      <td>음식</td>\n",
       "      <td>Q09</td>\n",
       "      <td>유흥주점</td>\n",
       "      <td>Q09A01</td>\n",
       "      <td>호프/맥주</td>\n",
       "      <td>I56219</td>\n",
       "      <td>기타 주점업</td>\n",
       "      <td>11</td>\n",
       "      <td>서울특별시</td>\n",
       "      <td>11545</td>\n",
       "      <td>금천구</td>\n",
       "      <td>1154563000</td>\n",
       "      <td>독산3동</td>\n",
       "      <td>1154510200</td>\n",
       "      <td>독산동</td>\n",
       "      <td>1154510200201620001</td>\n",
       "      <td>1</td>\n",
       "      <td>대지</td>\n",
       "      <td>162</td>\n",
       "      <td>1.0</td>\n",
       "      <td>서울특별시 금천구 독산동 162-1</td>\n",
       "      <td>115453117003</td>\n",
       "      <td>서울특별시 금천구 가산로</td>\n",
       "      <td>34</td>\n",
       "      <td>6.0</td>\n",
       "      <td>1154510200101620001017748</td>\n",
       "      <td>NaN</td>\n",
       "      <td>서울특별시 금천구 가산로 34-6</td>\n",
       "      <td>153010</td>\n",
       "      <td>8545.0</td>\n",
       "      <td>NaN</td>\n",
       "      <td>1</td>\n",
       "      <td>NaN</td>\n",
       "      <td>126.899220</td>\n",
       "      <td>37.471711</td>\n",
       "    </tr>\n",
       "    <tr>\n",
       "      <th>3</th>\n",
       "      <td>19912201</td>\n",
       "      <td>싱싱커피&amp;토스트</td>\n",
       "      <td>NaN</td>\n",
       "      <td>Q</td>\n",
       "      <td>음식</td>\n",
       "      <td>Q07</td>\n",
       "      <td>패스트푸드</td>\n",
       "      <td>Q07A10</td>\n",
       "      <td>토스트전문</td>\n",
       "      <td>I56192</td>\n",
       "      <td>피자, 햄버거, 샌드위치 및 유사 음식점업</td>\n",
       "      <td>26</td>\n",
       "      <td>부산광역시</td>\n",
       "      <td>26530</td>\n",
       "      <td>사상구</td>\n",
       "      <td>2653062000</td>\n",
       "      <td>괘법동</td>\n",
       "      <td>2653010400</td>\n",
       "      <td>괘법동</td>\n",
       "      <td>2653010400205780000</td>\n",
       "      <td>1</td>\n",
       "      <td>대지</td>\n",
       "      <td>578</td>\n",
       "      <td>NaN</td>\n",
       "      <td>부산광역시 사상구 괘법동 578</td>\n",
       "      <td>265303139004</td>\n",
       "      <td>부산광역시 사상구 괘감로</td>\n",
       "      <td>37</td>\n",
       "      <td>NaN</td>\n",
       "      <td>2653010400105780000002037</td>\n",
       "      <td>산업용품유통상가</td>\n",
       "      <td>부산광역시 사상구 괘감로 37</td>\n",
       "      <td>617726</td>\n",
       "      <td>46977.0</td>\n",
       "      <td>NaN</td>\n",
       "      <td>1</td>\n",
       "      <td>26</td>\n",
       "      <td>128.980455</td>\n",
       "      <td>35.159774</td>\n",
       "    </tr>\n",
       "    <tr>\n",
       "      <th>4</th>\n",
       "      <td>19932756</td>\n",
       "      <td>가락사우나내스낵</td>\n",
       "      <td>NaN</td>\n",
       "      <td>F</td>\n",
       "      <td>생활서비스</td>\n",
       "      <td>F09</td>\n",
       "      <td>대중목욕탕/휴게</td>\n",
       "      <td>F09A02</td>\n",
       "      <td>사우나/증기탕/온천</td>\n",
       "      <td>S96121</td>\n",
       "      <td>욕탕업</td>\n",
       "      <td>11</td>\n",
       "      <td>서울특별시</td>\n",
       "      <td>11710</td>\n",
       "      <td>송파구</td>\n",
       "      <td>1171060000</td>\n",
       "      <td>석촌동</td>\n",
       "      <td>1171010500</td>\n",
       "      <td>석촌동</td>\n",
       "      <td>1171010500202560000</td>\n",
       "      <td>1</td>\n",
       "      <td>대지</td>\n",
       "      <td>256</td>\n",
       "      <td>NaN</td>\n",
       "      <td>서울특별시 송파구 석촌동 256</td>\n",
       "      <td>117103123001</td>\n",
       "      <td>서울특별시 송파구 가락로</td>\n",
       "      <td>71</td>\n",
       "      <td>NaN</td>\n",
       "      <td>1171010500102560005010490</td>\n",
       "      <td>NaN</td>\n",
       "      <td>서울특별시 송파구 가락로 71</td>\n",
       "      <td>138846</td>\n",
       "      <td>5690.0</td>\n",
       "      <td>NaN</td>\n",
       "      <td>1</td>\n",
       "      <td>NaN</td>\n",
       "      <td>127.104071</td>\n",
       "      <td>37.500249</td>\n",
       "    </tr>\n",
       "  </tbody>\n",
       "</table>\n",
       "</div>"
      ],
      "text/plain": [
       "     상가업소번호            상호명         지점명 상권업종대분류코드 상권업종대분류명 상권업종중분류코드  상권업종중분류명  \\\n",
       "0  19905471         와라와라호프         NaN         Q       음식       Q09      유흥주점   \n",
       "1  19911397  커피빈코리아선릉로93길점  코리아선릉로93길점         Q       음식       Q12    커피점/카페   \n",
       "2  19911801           프로포즈         NaN         Q       음식       Q09      유흥주점   \n",
       "3  19912201       싱싱커피&토스트         NaN         Q       음식       Q07     패스트푸드   \n",
       "4  19932756       가락사우나내스낵         NaN         F    생활서비스       F09  대중목욕탕/휴게   \n",
       "\n",
       "  상권업종소분류코드     상권업종소분류명 표준산업분류코드                  표준산업분류명  시도코드    시도명  \\\n",
       "0    Q09A01        호프/맥주   I56219                   기타 주점업    11  서울특별시   \n",
       "1    Q12A01  커피전문점/카페/다방   I56220                 비알콜 음료점업    11  서울특별시   \n",
       "2    Q09A01        호프/맥주   I56219                   기타 주점업    11  서울특별시   \n",
       "3    Q07A10        토스트전문   I56192  피자, 햄버거, 샌드위치 및 유사 음식점업    26  부산광역시   \n",
       "4    F09A02   사우나/증기탕/온천   S96121                      욕탕업    11  서울특별시   \n",
       "\n",
       "   시군구코드 시군구명       행정동코드  행정동명       법정동코드 법정동명                 지번코드  대지구분코드  \\\n",
       "0  11680  강남구  1168060000  대치1동  1168010600  대치동  1168010600206040000       1   \n",
       "1  11680  강남구  1168064000  역삼1동  1168010100  역삼동  1168010100206960042       1   \n",
       "2  11545  금천구  1154563000  독산3동  1154510200  독산동  1154510200201620001       1   \n",
       "3  26530  사상구  2653062000   괘법동  2653010400  괘법동  2653010400205780000       1   \n",
       "4  11710  송파구  1171060000   석촌동  1171010500  석촌동  1171010500202560000       1   \n",
       "\n",
       "  대지구분명  지번본번지  지번부번지                  지번주소         도로명코드               도로명  \\\n",
       "0    대지    604    NaN     서울특별시 강남구 대치동 604  116802000003   서울특별시 강남구 남부순환로   \n",
       "1    대지    696   42.0  서울특별시 강남구 역삼동 696-42  116804166502  서울특별시 강남구 선릉로93길   \n",
       "2    대지    162    1.0   서울특별시 금천구 독산동 162-1  115453117003     서울특별시 금천구 가산로   \n",
       "3    대지    578    NaN     부산광역시 사상구 괘법동 578  265303139004     부산광역시 사상구 괘감로   \n",
       "4    대지    256    NaN     서울특별시 송파구 석촌동 256  117103123001     서울특별시 송파구 가락로   \n",
       "\n",
       "   건물본번지  건물부번지                     건물관리번호       건물명                 도로명주소  \\\n",
       "0   2933    NaN  1168010600106040000014378      대치상가  서울특별시 강남구 남부순환로 2933   \n",
       "1      6    NaN  1168010100106960042022041       NaN    서울특별시 강남구 선릉로93길 6   \n",
       "2     34    6.0  1154510200101620001017748       NaN    서울특별시 금천구 가산로 34-6   \n",
       "3     37    NaN  2653010400105780000002037  산업용품유통상가      부산광역시 사상구 괘감로 37   \n",
       "4     71    NaN  1171010500102560005010490       NaN      서울특별시 송파구 가락로 71   \n",
       "\n",
       "    구우편번호    신우편번호  동정보 층정보  호정보          경도         위도  \n",
       "0  135280   6280.0  NaN   1  NaN  127.061026  37.493922  \n",
       "1  135080   6149.0  NaN   1  NaN  127.047883  37.505675  \n",
       "2  153010   8545.0  NaN   1  NaN  126.899220  37.471711  \n",
       "3  617726  46977.0  NaN   1   26  128.980455  35.159774  \n",
       "4  138846   5690.0  NaN   1  NaN  127.104071  37.500249  "
      ]
     },
     "execution_count": 6,
     "metadata": {},
     "output_type": "execute_result"
    }
   ],
   "source": [
    "df.head()"
   ]
  },
  {
   "cell_type": "code",
   "execution_count": 7,
   "metadata": {
    "scrolled": true
   },
   "outputs": [
    {
     "name": "stdout",
     "output_type": "stream",
     "text": [
      "<class 'pandas.core.frame.DataFrame'>\n",
      "RangeIndex: 573680 entries, 0 to 573679\n",
      "Data columns (total 39 columns):\n",
      " #   Column     Non-Null Count   Dtype  \n",
      "---  ------     --------------   -----  \n",
      " 0   상가업소번호     573680 non-null  int64  \n",
      " 1   상호명        573679 non-null  object \n",
      " 2   지점명        76674 non-null   object \n",
      " 3   상권업종대분류코드  573680 non-null  object \n",
      " 4   상권업종대분류명   573680 non-null  object \n",
      " 5   상권업종중분류코드  573680 non-null  object \n",
      " 6   상권업종중분류명   573680 non-null  object \n",
      " 7   상권업종소분류코드  573680 non-null  object \n",
      " 8   상권업종소분류명   573680 non-null  object \n",
      " 9   표준산업분류코드   539290 non-null  object \n",
      " 10  표준산업분류명    539290 non-null  object \n",
      " 11  시도코드       573680 non-null  int64  \n",
      " 12  시도명        573680 non-null  object \n",
      " 13  시군구코드      573680 non-null  int64  \n",
      " 14  시군구명       573680 non-null  object \n",
      " 15  행정동코드      573680 non-null  int64  \n",
      " 16  행정동명       573680 non-null  object \n",
      " 17  법정동코드      573680 non-null  int64  \n",
      " 18  법정동명       573680 non-null  object \n",
      " 19  지번코드       573680 non-null  int64  \n",
      " 20  대지구분코드     573680 non-null  int64  \n",
      " 21  대지구분명      573680 non-null  object \n",
      " 22  지번본번지      573680 non-null  int64  \n",
      " 23  지번부번지      474924 non-null  float64\n",
      " 24  지번주소       573680 non-null  object \n",
      " 25  도로명코드      573680 non-null  int64  \n",
      " 26  도로명        573680 non-null  object \n",
      " 27  건물본번지      573680 non-null  int64  \n",
      " 28  건물부번지      71988 non-null   float64\n",
      " 29  건물관리번호     573680 non-null  object \n",
      " 30  건물명        265608 non-null  object \n",
      " 31  도로명주소      573680 non-null  object \n",
      " 32  구우편번호      573680 non-null  int64  \n",
      " 33  신우편번호      573671 non-null  float64\n",
      " 34  동정보        50856 non-null   object \n",
      " 35  층정보        347127 non-null  object \n",
      " 36  호정보        85266 non-null   object \n",
      " 37  경도         573680 non-null  float64\n",
      " 38  위도         573680 non-null  float64\n",
      "dtypes: float64(5), int64(11), object(23)\n",
      "memory usage: 170.7+ MB\n"
     ]
    }
   ],
   "source": [
    "# 데이터 정보\n",
    "df.info()"
   ]
  },
  {
   "cell_type": "code",
   "execution_count": 8,
   "metadata": {
    "scrolled": true
   },
   "outputs": [
    {
     "data": {
      "text/plain": [
       "상가업소번호         int64\n",
       "상호명           object\n",
       "지점명           object\n",
       "상권업종대분류코드     object\n",
       "상권업종대분류명      object\n",
       "상권업종중분류코드     object\n",
       "상권업종중분류명      object\n",
       "상권업종소분류코드     object\n",
       "상권업종소분류명      object\n",
       "표준산업분류코드      object\n",
       "표준산업분류명       object\n",
       "시도코드           int64\n",
       "시도명           object\n",
       "시군구코드          int64\n",
       "시군구명          object\n",
       "행정동코드          int64\n",
       "행정동명          object\n",
       "법정동코드          int64\n",
       "법정동명          object\n",
       "지번코드           int64\n",
       "대지구분코드         int64\n",
       "대지구분명         object\n",
       "지번본번지          int64\n",
       "지번부번지        float64\n",
       "지번주소          object\n",
       "도로명코드          int64\n",
       "도로명           object\n",
       "건물본번지          int64\n",
       "건물부번지        float64\n",
       "건물관리번호        object\n",
       "건물명           object\n",
       "도로명주소         object\n",
       "구우편번호          int64\n",
       "신우편번호        float64\n",
       "동정보           object\n",
       "층정보           object\n",
       "호정보           object\n",
       "경도           float64\n",
       "위도           float64\n",
       "dtype: object"
      ]
     },
     "execution_count": 8,
     "metadata": {},
     "output_type": "execute_result"
    }
   ],
   "source": [
    "#데이터 타입\n",
    "df.dtypes"
   ]
  },
  {
   "cell_type": "code",
   "execution_count": 9,
   "metadata": {
    "scrolled": true
   },
   "outputs": [
    {
     "data": {
      "text/plain": [
       "상가업소번호            0\n",
       "상호명               1\n",
       "지점명          497006\n",
       "상권업종대분류코드         0\n",
       "상권업종대분류명          0\n",
       "상권업종중분류코드         0\n",
       "상권업종중분류명          0\n",
       "상권업종소분류코드         0\n",
       "상권업종소분류명          0\n",
       "표준산업분류코드      34390\n",
       "표준산업분류명       34390\n",
       "시도코드              0\n",
       "시도명               0\n",
       "시군구코드             0\n",
       "시군구명              0\n",
       "행정동코드             0\n",
       "행정동명              0\n",
       "법정동코드             0\n",
       "법정동명              0\n",
       "지번코드              0\n",
       "대지구분코드            0\n",
       "대지구분명             0\n",
       "지번본번지             0\n",
       "지번부번지         98756\n",
       "지번주소              0\n",
       "도로명코드             0\n",
       "도로명               0\n",
       "건물본번지             0\n",
       "건물부번지        501692\n",
       "건물관리번호            0\n",
       "건물명          308072\n",
       "도로명주소             0\n",
       "구우편번호             0\n",
       "신우편번호             9\n",
       "동정보          522824\n",
       "층정보          226553\n",
       "호정보          488414\n",
       "경도                0\n",
       "위도                0\n",
       "dtype: int64"
      ]
     },
     "execution_count": 9,
     "metadata": {},
     "output_type": "execute_result"
    }
   ],
   "source": [
    "#결측치 확인 true가 결측치\n",
    "n = df.isnull().sum()\n",
    "n"
   ]
  },
  {
   "cell_type": "code",
   "execution_count": 10,
   "metadata": {},
   "outputs": [
    {
     "data": {
      "text/plain": [
       "Index(['동정보', '건물부번지', '지점명', '호정보', '건물명', '층정보', '지번부번지', '표준산업분류명',\n",
       "       '표준산업분류코드'],\n",
       "      dtype='object')"
      ]
     },
     "execution_count": 10,
     "metadata": {},
     "output_type": "execute_result"
    }
   ],
   "source": [
    "#결측치가 너무 많은 데이터를 제거\n",
    "#결측치가 많은 데이터를 위에서 9개를 가져와서 not_use에 담는다\n",
    "#not_use 변수에 담긴 인덱스값만 추출해서 not_use_col에 담는다\n",
    "not_use=n.sort_values(ascending=False).head(9)\n",
    "not_use_col = not_use.index\n",
    "not_use_col"
   ]
  },
  {
   "cell_type": "code",
   "execution_count": 11,
   "metadata": {},
   "outputs": [
    {
     "name": "stdout",
     "output_type": "stream",
     "text": [
      "(573680, 39)\n",
      "(573680, 30)\n"
     ]
    }
   ],
   "source": [
    "#사용하지 않는 컬럼을 제가하고 잘 제거가 되었는지 shape로 확인 axis = 0 행, axis = 1 열\n",
    "print(df.shape)\n",
    "df = df.drop(not_use_col, axis=1)\n",
    "print(df.shape)"
   ]
  },
  {
   "cell_type": "code",
   "execution_count": 12,
   "metadata": {},
   "outputs": [
    {
     "name": "stdout",
     "output_type": "stream",
     "text": [
      "<class 'pandas.core.frame.DataFrame'>\n",
      "RangeIndex: 573680 entries, 0 to 573679\n",
      "Data columns (total 30 columns):\n",
      " #   Column     Non-Null Count   Dtype  \n",
      "---  ------     --------------   -----  \n",
      " 0   상가업소번호     573680 non-null  int64  \n",
      " 1   상호명        573679 non-null  object \n",
      " 2   상권업종대분류코드  573680 non-null  object \n",
      " 3   상권업종대분류명   573680 non-null  object \n",
      " 4   상권업종중분류코드  573680 non-null  object \n",
      " 5   상권업종중분류명   573680 non-null  object \n",
      " 6   상권업종소분류코드  573680 non-null  object \n",
      " 7   상권업종소분류명   573680 non-null  object \n",
      " 8   시도코드       573680 non-null  int64  \n",
      " 9   시도명        573680 non-null  object \n",
      " 10  시군구코드      573680 non-null  int64  \n",
      " 11  시군구명       573680 non-null  object \n",
      " 12  행정동코드      573680 non-null  int64  \n",
      " 13  행정동명       573680 non-null  object \n",
      " 14  법정동코드      573680 non-null  int64  \n",
      " 15  법정동명       573680 non-null  object \n",
      " 16  지번코드       573680 non-null  int64  \n",
      " 17  대지구분코드     573680 non-null  int64  \n",
      " 18  대지구분명      573680 non-null  object \n",
      " 19  지번본번지      573680 non-null  int64  \n",
      " 20  지번주소       573680 non-null  object \n",
      " 21  도로명코드      573680 non-null  int64  \n",
      " 22  도로명        573680 non-null  object \n",
      " 23  건물본번지      573680 non-null  int64  \n",
      " 24  건물관리번호     573680 non-null  object \n",
      " 25  도로명주소      573680 non-null  object \n",
      " 26  구우편번호      573680 non-null  int64  \n",
      " 27  신우편번호      573671 non-null  float64\n",
      " 28  경도         573680 non-null  float64\n",
      " 29  위도         573680 non-null  float64\n",
      "dtypes: float64(3), int64(11), object(16)\n",
      "memory usage: 131.3+ MB\n"
     ]
    }
   ],
   "source": [
    "df.info()"
   ]
  },
  {
   "cell_type": "code",
   "execution_count": 13,
   "metadata": {},
   "outputs": [
    {
     "data": {
      "text/plain": [
       "Index(['상가업소번호', '상호명', '상권업종대분류코드', '상권업종대분류명', '상권업종중분류코드', '상권업종중분류명',\n",
       "       '상권업종소분류코드', '상권업종소분류명', '시도코드', '시도명', '시군구코드', '시군구명', '행정동코드',\n",
       "       '행정동명', '법정동코드', '법정동명', '지번코드', '대지구분코드', '대지구분명', '지번본번지', '지번주소',\n",
       "       '도로명코드', '도로명', '건물본번지', '건물관리번호', '도로명주소', '구우편번호', '신우편번호', '경도',\n",
       "       '위도'],\n",
       "      dtype='object')"
      ]
     },
     "execution_count": 13,
     "metadata": {},
     "output_type": "execute_result"
    }
   ],
   "source": [
    "cols = df.columns\n",
    "cols"
   ]
  },
  {
   "cell_type": "code",
   "execution_count": 14,
   "metadata": {},
   "outputs": [
    {
     "data": {
      "text/plain": [
       "Index(['상가업소번호', '상권업종대분류코드', '상권업종중분류코드', '상권업종소분류코드', '시도코드', '시군구코드',\n",
       "       '행정동코드', '법정동코드', '지번코드', '대지구분코드', '도로명코드', '건물관리번호', '구우편번호',\n",
       "       '신우편번호'],\n",
       "      dtype='object')"
      ]
     },
     "execution_count": 14,
     "metadata": {},
     "output_type": "execute_result"
    }
   ],
   "source": [
    "# 특정문자가 들어간 값 찾기 true가 있는거 |는 or &는 and\n",
    "cols_code = cols[cols.str.contains(\"코드|번호\")]\n",
    "cols_code"
   ]
  },
  {
   "cell_type": "code",
   "execution_count": 15,
   "metadata": {},
   "outputs": [
    {
     "name": "stdout",
     "output_type": "stream",
     "text": [
      "(573680, 30)\n",
      "(573680, 16)\n"
     ]
    }
   ],
   "source": [
    "#코드와 번호가 들어간 열은 제거\n",
    "print(df.shape)\n",
    "df = df.drop(cols_code, axis=1)\n",
    "print(df.shape)"
   ]
  },
  {
   "cell_type": "code",
   "execution_count": 16,
   "metadata": {},
   "outputs": [
    {
     "name": "stdout",
     "output_type": "stream",
     "text": [
      "<class 'pandas.core.frame.DataFrame'>\n",
      "RangeIndex: 573680 entries, 0 to 573679\n",
      "Data columns (total 16 columns):\n",
      " #   Column    Non-Null Count   Dtype  \n",
      "---  ------    --------------   -----  \n",
      " 0   상호명       573679 non-null  object \n",
      " 1   상권업종대분류명  573680 non-null  object \n",
      " 2   상권업종중분류명  573680 non-null  object \n",
      " 3   상권업종소분류명  573680 non-null  object \n",
      " 4   시도명       573680 non-null  object \n",
      " 5   시군구명      573680 non-null  object \n",
      " 6   행정동명      573680 non-null  object \n",
      " 7   법정동명      573680 non-null  object \n",
      " 8   대지구분명     573680 non-null  object \n",
      " 9   지번본번지     573680 non-null  int64  \n",
      " 10  지번주소      573680 non-null  object \n",
      " 11  도로명       573680 non-null  object \n",
      " 12  건물본번지     573680 non-null  int64  \n",
      " 13  도로명주소     573680 non-null  object \n",
      " 14  경도        573680 non-null  float64\n",
      " 15  위도        573680 non-null  float64\n",
      "dtypes: float64(2), int64(2), object(12)\n",
      "memory usage: 70.0+ MB\n"
     ]
    }
   ],
   "source": [
    "df.info()"
   ]
  },
  {
   "cell_type": "code",
   "execution_count": 56,
   "metadata": {
    "scrolled": true
   },
   "outputs": [
    {
     "data": {
      "text/html": [
       "<div>\n",
       "<style scoped>\n",
       "    .dataframe tbody tr th:only-of-type {\n",
       "        vertical-align: middle;\n",
       "    }\n",
       "\n",
       "    .dataframe tbody tr th {\n",
       "        vertical-align: top;\n",
       "    }\n",
       "\n",
       "    .dataframe thead th {\n",
       "        text-align: right;\n",
       "    }\n",
       "</style>\n",
       "<table border=\"1\" class=\"dataframe\">\n",
       "  <thead>\n",
       "    <tr style=\"text-align: right;\">\n",
       "      <th></th>\n",
       "      <th>상호명</th>\n",
       "      <th>상권업종대분류명</th>\n",
       "      <th>상권업종중분류명</th>\n",
       "      <th>상권업종소분류명</th>\n",
       "      <th>시도명</th>\n",
       "      <th>시군구명</th>\n",
       "      <th>행정동명</th>\n",
       "      <th>법정동명</th>\n",
       "      <th>대지구분명</th>\n",
       "      <th>지번본번지</th>\n",
       "      <th>지번주소</th>\n",
       "      <th>도로명</th>\n",
       "      <th>건물본번지</th>\n",
       "      <th>도로명주소</th>\n",
       "      <th>경도</th>\n",
       "      <th>위도</th>\n",
       "    </tr>\n",
       "  </thead>\n",
       "  <tbody>\n",
       "    <tr>\n",
       "      <th>0</th>\n",
       "      <td>와라와라호프</td>\n",
       "      <td>음식</td>\n",
       "      <td>유흥주점</td>\n",
       "      <td>호프/맥주</td>\n",
       "      <td>서울특별시</td>\n",
       "      <td>강남구</td>\n",
       "      <td>대치1동</td>\n",
       "      <td>대치동</td>\n",
       "      <td>대지</td>\n",
       "      <td>604</td>\n",
       "      <td>서울특별시 강남구 대치동 604</td>\n",
       "      <td>서울특별시 강남구 남부순환로</td>\n",
       "      <td>2933</td>\n",
       "      <td>서울특별시 강남구 남부순환로 2933</td>\n",
       "      <td>127.061026</td>\n",
       "      <td>37.493922</td>\n",
       "    </tr>\n",
       "    <tr>\n",
       "      <th>1</th>\n",
       "      <td>커피빈코리아선릉로93길점</td>\n",
       "      <td>음식</td>\n",
       "      <td>커피점/카페</td>\n",
       "      <td>커피전문점/카페/다방</td>\n",
       "      <td>서울특별시</td>\n",
       "      <td>강남구</td>\n",
       "      <td>역삼1동</td>\n",
       "      <td>역삼동</td>\n",
       "      <td>대지</td>\n",
       "      <td>696</td>\n",
       "      <td>서울특별시 강남구 역삼동 696-42</td>\n",
       "      <td>서울특별시 강남구 선릉로93길</td>\n",
       "      <td>6</td>\n",
       "      <td>서울특별시 강남구 선릉로93길 6</td>\n",
       "      <td>127.047883</td>\n",
       "      <td>37.505675</td>\n",
       "    </tr>\n",
       "    <tr>\n",
       "      <th>2</th>\n",
       "      <td>프로포즈</td>\n",
       "      <td>음식</td>\n",
       "      <td>유흥주점</td>\n",
       "      <td>호프/맥주</td>\n",
       "      <td>서울특별시</td>\n",
       "      <td>금천구</td>\n",
       "      <td>독산3동</td>\n",
       "      <td>독산동</td>\n",
       "      <td>대지</td>\n",
       "      <td>162</td>\n",
       "      <td>서울특별시 금천구 독산동 162-1</td>\n",
       "      <td>서울특별시 금천구 가산로</td>\n",
       "      <td>34</td>\n",
       "      <td>서울특별시 금천구 가산로 34-6</td>\n",
       "      <td>126.899220</td>\n",
       "      <td>37.471711</td>\n",
       "    </tr>\n",
       "    <tr>\n",
       "      <th>4</th>\n",
       "      <td>가락사우나내스낵</td>\n",
       "      <td>생활서비스</td>\n",
       "      <td>대중목욕탕/휴게</td>\n",
       "      <td>사우나/증기탕/온천</td>\n",
       "      <td>서울특별시</td>\n",
       "      <td>송파구</td>\n",
       "      <td>석촌동</td>\n",
       "      <td>석촌동</td>\n",
       "      <td>대지</td>\n",
       "      <td>256</td>\n",
       "      <td>서울특별시 송파구 석촌동 256</td>\n",
       "      <td>서울특별시 송파구 가락로</td>\n",
       "      <td>71</td>\n",
       "      <td>서울특별시 송파구 가락로 71</td>\n",
       "      <td>127.104071</td>\n",
       "      <td>37.500249</td>\n",
       "    </tr>\n",
       "    <tr>\n",
       "      <th>5</th>\n",
       "      <td>초밥왕</td>\n",
       "      <td>음식</td>\n",
       "      <td>일식/수산물</td>\n",
       "      <td>음식점-초밥전문</td>\n",
       "      <td>서울특별시</td>\n",
       "      <td>송파구</td>\n",
       "      <td>잠실6동</td>\n",
       "      <td>신천동</td>\n",
       "      <td>대지</td>\n",
       "      <td>7</td>\n",
       "      <td>서울특별시 송파구 신천동 7-28</td>\n",
       "      <td>서울특별시 송파구 올림픽로</td>\n",
       "      <td>293</td>\n",
       "      <td>서울특별시 송파구 올림픽로 293-19</td>\n",
       "      <td>127.102490</td>\n",
       "      <td>37.515149</td>\n",
       "    </tr>\n",
       "    <tr>\n",
       "      <th>...</th>\n",
       "      <td>...</td>\n",
       "      <td>...</td>\n",
       "      <td>...</td>\n",
       "      <td>...</td>\n",
       "      <td>...</td>\n",
       "      <td>...</td>\n",
       "      <td>...</td>\n",
       "      <td>...</td>\n",
       "      <td>...</td>\n",
       "      <td>...</td>\n",
       "      <td>...</td>\n",
       "      <td>...</td>\n",
       "      <td>...</td>\n",
       "      <td>...</td>\n",
       "      <td>...</td>\n",
       "      <td>...</td>\n",
       "    </tr>\n",
       "    <tr>\n",
       "      <th>573675</th>\n",
       "      <td>비파티세리공덕</td>\n",
       "      <td>음식</td>\n",
       "      <td>한식</td>\n",
       "      <td>한식/백반/한정식</td>\n",
       "      <td>서울특별시</td>\n",
       "      <td>마포구</td>\n",
       "      <td>공덕동</td>\n",
       "      <td>공덕동</td>\n",
       "      <td>대지</td>\n",
       "      <td>105</td>\n",
       "      <td>서울특별시 마포구 공덕동 105-67</td>\n",
       "      <td>서울특별시 마포구 마포대로14길</td>\n",
       "      <td>4</td>\n",
       "      <td>서울특별시 마포구 마포대로14길 4</td>\n",
       "      <td>126.955059</td>\n",
       "      <td>37.548618</td>\n",
       "    </tr>\n",
       "    <tr>\n",
       "      <th>573676</th>\n",
       "      <td>앤탑PC방</td>\n",
       "      <td>관광/여가/오락</td>\n",
       "      <td>PC/오락/당구/볼링등</td>\n",
       "      <td>인터넷PC방</td>\n",
       "      <td>서울특별시</td>\n",
       "      <td>성동구</td>\n",
       "      <td>성수2가3동</td>\n",
       "      <td>성수동2가</td>\n",
       "      <td>대지</td>\n",
       "      <td>289</td>\n",
       "      <td>서울특별시 성동구 성수동2가 289-15</td>\n",
       "      <td>서울특별시 성동구 성수일로8길</td>\n",
       "      <td>37</td>\n",
       "      <td>서울특별시 성동구 성수일로8길 37</td>\n",
       "      <td>127.054615</td>\n",
       "      <td>37.545853</td>\n",
       "    </tr>\n",
       "    <tr>\n",
       "      <th>573677</th>\n",
       "      <td>오즈아레나PC방</td>\n",
       "      <td>관광/여가/오락</td>\n",
       "      <td>PC/오락/당구/볼링등</td>\n",
       "      <td>인터넷PC방</td>\n",
       "      <td>서울특별시</td>\n",
       "      <td>강남구</td>\n",
       "      <td>논현1동</td>\n",
       "      <td>논현동</td>\n",
       "      <td>대지</td>\n",
       "      <td>165</td>\n",
       "      <td>서울특별시 강남구 논현동 165-8</td>\n",
       "      <td>서울특별시 강남구 강남대로</td>\n",
       "      <td>492</td>\n",
       "      <td>서울특별시 강남구 강남대로 492</td>\n",
       "      <td>127.024102</td>\n",
       "      <td>37.506202</td>\n",
       "    </tr>\n",
       "    <tr>\n",
       "      <th>573678</th>\n",
       "      <td>파인트리네일</td>\n",
       "      <td>생활서비스</td>\n",
       "      <td>이/미용/건강</td>\n",
       "      <td>발/네일케어</td>\n",
       "      <td>서울특별시</td>\n",
       "      <td>영등포구</td>\n",
       "      <td>여의동</td>\n",
       "      <td>여의도동</td>\n",
       "      <td>대지</td>\n",
       "      <td>23</td>\n",
       "      <td>서울특별시 영등포구 여의도동 23</td>\n",
       "      <td>서울특별시 영등포구 국제금융로</td>\n",
       "      <td>10</td>\n",
       "      <td>서울특별시 영등포구 국제금융로 10</td>\n",
       "      <td>126.924863</td>\n",
       "      <td>37.525172</td>\n",
       "    </tr>\n",
       "    <tr>\n",
       "      <th>573679</th>\n",
       "      <td>마이리틀네일</td>\n",
       "      <td>생활서비스</td>\n",
       "      <td>이/미용/건강</td>\n",
       "      <td>발/네일케어</td>\n",
       "      <td>서울특별시</td>\n",
       "      <td>도봉구</td>\n",
       "      <td>창1동</td>\n",
       "      <td>창동</td>\n",
       "      <td>대지</td>\n",
       "      <td>812</td>\n",
       "      <td>서울특별시 도봉구 창동 812</td>\n",
       "      <td>서울특별시 도봉구 도봉로114길</td>\n",
       "      <td>22</td>\n",
       "      <td>서울특별시 도봉구 도봉로114길 22-8</td>\n",
       "      <td>127.035145</td>\n",
       "      <td>37.647099</td>\n",
       "    </tr>\n",
       "  </tbody>\n",
       "</table>\n",
       "<p>407376 rows × 16 columns</p>\n",
       "</div>"
      ],
      "text/plain": [
       "                  상호명  상권업종대분류명      상권업종중분류명     상권업종소분류명    시도명  시군구명  \\\n",
       "0              와라와라호프        음식          유흥주점        호프/맥주  서울특별시   강남구   \n",
       "1       커피빈코리아선릉로93길점        음식        커피점/카페  커피전문점/카페/다방  서울특별시   강남구   \n",
       "2                프로포즈        음식          유흥주점        호프/맥주  서울특별시   금천구   \n",
       "4            가락사우나내스낵     생활서비스      대중목욕탕/휴게   사우나/증기탕/온천  서울특별시   송파구   \n",
       "5                 초밥왕        음식        일식/수산물     음식점-초밥전문  서울특별시   송파구   \n",
       "...               ...       ...           ...          ...    ...   ...   \n",
       "573675        비파티세리공덕        음식            한식    한식/백반/한정식  서울특별시   마포구   \n",
       "573676          앤탑PC방  관광/여가/오락  PC/오락/당구/볼링등       인터넷PC방  서울특별시   성동구   \n",
       "573677       오즈아레나PC방  관광/여가/오락  PC/오락/당구/볼링등       인터넷PC방  서울특별시   강남구   \n",
       "573678         파인트리네일     생활서비스       이/미용/건강       발/네일케어  서울특별시  영등포구   \n",
       "573679         마이리틀네일     생활서비스       이/미용/건강       발/네일케어  서울특별시   도봉구   \n",
       "\n",
       "          행정동명   법정동명 대지구분명  지번본번지                    지번주소                도로명  \\\n",
       "0         대치1동    대치동    대지    604       서울특별시 강남구 대치동 604    서울특별시 강남구 남부순환로   \n",
       "1         역삼1동    역삼동    대지    696    서울특별시 강남구 역삼동 696-42   서울특별시 강남구 선릉로93길   \n",
       "2         독산3동    독산동    대지    162     서울특별시 금천구 독산동 162-1      서울특별시 금천구 가산로   \n",
       "4          석촌동    석촌동    대지    256       서울특별시 송파구 석촌동 256      서울특별시 송파구 가락로   \n",
       "5         잠실6동    신천동    대지      7      서울특별시 송파구 신천동 7-28     서울특별시 송파구 올림픽로   \n",
       "...        ...    ...   ...    ...                     ...                ...   \n",
       "573675     공덕동    공덕동    대지    105    서울특별시 마포구 공덕동 105-67  서울특별시 마포구 마포대로14길   \n",
       "573676  성수2가3동  성수동2가    대지    289  서울특별시 성동구 성수동2가 289-15   서울특별시 성동구 성수일로8길   \n",
       "573677    논현1동    논현동    대지    165     서울특별시 강남구 논현동 165-8     서울특별시 강남구 강남대로   \n",
       "573678     여의동   여의도동    대지     23      서울특별시 영등포구 여의도동 23   서울특별시 영등포구 국제금융로   \n",
       "573679     창1동     창동    대지    812        서울특별시 도봉구 창동 812  서울특별시 도봉구 도봉로114길   \n",
       "\n",
       "        건물본번지                   도로명주소          경도         위도  \n",
       "0        2933    서울특별시 강남구 남부순환로 2933  127.061026  37.493922  \n",
       "1           6      서울특별시 강남구 선릉로93길 6  127.047883  37.505675  \n",
       "2          34      서울특별시 금천구 가산로 34-6  126.899220  37.471711  \n",
       "4          71        서울특별시 송파구 가락로 71  127.104071  37.500249  \n",
       "5         293   서울특별시 송파구 올림픽로 293-19  127.102490  37.515149  \n",
       "...       ...                     ...         ...        ...  \n",
       "573675      4     서울특별시 마포구 마포대로14길 4  126.955059  37.548618  \n",
       "573676     37     서울특별시 성동구 성수일로8길 37  127.054615  37.545853  \n",
       "573677    492      서울특별시 강남구 강남대로 492  127.024102  37.506202  \n",
       "573678     10     서울특별시 영등포구 국제금융로 10  126.924863  37.525172  \n",
       "573679     22  서울특별시 도봉구 도봉로114길 22-8  127.035145  37.647099  \n",
       "\n",
       "[407376 rows x 16 columns]"
      ]
     },
     "execution_count": 56,
     "metadata": {},
     "output_type": "execute_result"
    }
   ],
   "source": [
    "# df_seoul_food에 \"시도명\"이 \"서울특별시\"에 대한 서브셋을 가져와서 담아주기\n",
    "df_seoul= df[(df[\"시도명\"] == \"서울특별시\")].copy()\n",
    "df_seoul"
   ]
  },
  {
   "cell_type": "markdown",
   "metadata": {},
   "source": [
    "# 서울에 어떠한 업종이 가장 많은가?"
   ]
  },
  {
   "cell_type": "code",
   "execution_count": 114,
   "metadata": {},
   "outputs": [
    {
     "data": {
      "text/html": [
       "<div>\n",
       "<style scoped>\n",
       "    .dataframe tbody tr th:only-of-type {\n",
       "        vertical-align: middle;\n",
       "    }\n",
       "\n",
       "    .dataframe tbody tr th {\n",
       "        vertical-align: top;\n",
       "    }\n",
       "\n",
       "    .dataframe thead th {\n",
       "        text-align: right;\n",
       "    }\n",
       "</style>\n",
       "<table border=\"1\" class=\"dataframe\">\n",
       "  <thead>\n",
       "    <tr style=\"text-align: right;\">\n",
       "      <th></th>\n",
       "      <th>상권업종대분류명</th>\n",
       "      <th>개수</th>\n",
       "    </tr>\n",
       "  </thead>\n",
       "  <tbody>\n",
       "    <tr>\n",
       "      <th>0</th>\n",
       "      <td>음식</td>\n",
       "      <td>132889</td>\n",
       "    </tr>\n",
       "    <tr>\n",
       "      <th>1</th>\n",
       "      <td>소매</td>\n",
       "      <td>126209</td>\n",
       "    </tr>\n",
       "    <tr>\n",
       "      <th>2</th>\n",
       "      <td>생활서비스</td>\n",
       "      <td>67137</td>\n",
       "    </tr>\n",
       "    <tr>\n",
       "      <th>3</th>\n",
       "      <td>학문/교육</td>\n",
       "      <td>31509</td>\n",
       "    </tr>\n",
       "    <tr>\n",
       "      <th>4</th>\n",
       "      <td>의료</td>\n",
       "      <td>19011</td>\n",
       "    </tr>\n",
       "    <tr>\n",
       "      <th>5</th>\n",
       "      <td>부동산</td>\n",
       "      <td>15701</td>\n",
       "    </tr>\n",
       "    <tr>\n",
       "      <th>6</th>\n",
       "      <td>관광/여가/오락</td>\n",
       "      <td>11643</td>\n",
       "    </tr>\n",
       "    <tr>\n",
       "      <th>7</th>\n",
       "      <td>숙박</td>\n",
       "      <td>3083</td>\n",
       "    </tr>\n",
       "    <tr>\n",
       "      <th>8</th>\n",
       "      <td>스포츠</td>\n",
       "      <td>194</td>\n",
       "    </tr>\n",
       "  </tbody>\n",
       "</table>\n",
       "</div>"
      ],
      "text/plain": [
       "   상권업종대분류명      개수\n",
       "0        음식  132889\n",
       "1        소매  126209\n",
       "2     생활서비스   67137\n",
       "3     학문/교육   31509\n",
       "4        의료   19011\n",
       "5       부동산   15701\n",
       "6  관광/여가/오락   11643\n",
       "7        숙박    3083\n",
       "8       스포츠     194"
      ]
     },
     "execution_count": 114,
     "metadata": {},
     "output_type": "execute_result"
    }
   ],
   "source": [
    "#서울에 어떠한 업종이 많은까?\n",
    "df_kind = df_seoul[\"상권업종대분류명\"].value_counts()\n",
    "df_kind = df_kind.reset_index()\n",
    "df_kind = df_kind.rename(columns={\"index\":\"상권업종대분류명\", \"상권업종대분류명\":\"개수\"})\n",
    "df_kind.head(10)\n",
    "#음식, 소매, 생활서비스 순으로 일상생활에 필요한 것들이 많이 있는 것을 볼 수 있다."
   ]
  },
  {
   "cell_type": "code",
   "execution_count": 113,
   "metadata": {},
   "outputs": [
    {
     "data": {
      "text/plain": [
       "<AxesSubplot:xlabel='상권업종대분류명', ylabel='개수'>"
      ]
     },
     "execution_count": 113,
     "metadata": {},
     "output_type": "execute_result"
    },
    {
     "data": {
      "image/png": "[encoded data removed]",
      "text/plain": [
       "<Figure size 1080x288 with 1 Axes>"
      ]
     },
     "metadata": {
      "needs_background": "light"
     },
     "output_type": "display_data"
    }
   ],
   "source": [
    "plt.figure(figsize=(15,4))\n",
    "sns.barplot(data=df_kind.head(10), x=\"상권업종대분류명\", y=\"개수\")"
   ]
  },
  {
   "cell_type": "markdown",
   "metadata": {},
   "source": [
    "## 서울에서 음식 업종은 어느 지역에 많을까?"
   ]
  },
  {
   "cell_type": "code",
   "execution_count": 116,
   "metadata": {
    "scrolled": true
   },
   "outputs": [
    {
     "data": {
      "text/html": [
       "<div>\n",
       "<style scoped>\n",
       "    .dataframe tbody tr th:only-of-type {\n",
       "        vertical-align: middle;\n",
       "    }\n",
       "\n",
       "    .dataframe tbody tr th {\n",
       "        vertical-align: top;\n",
       "    }\n",
       "\n",
       "    .dataframe thead th {\n",
       "        text-align: right;\n",
       "    }\n",
       "</style>\n",
       "<table border=\"1\" class=\"dataframe\">\n",
       "  <thead>\n",
       "    <tr style=\"text-align: right;\">\n",
       "      <th></th>\n",
       "      <th>시군구명</th>\n",
       "      <th>개수</th>\n",
       "    </tr>\n",
       "  </thead>\n",
       "  <tbody>\n",
       "    <tr>\n",
       "      <th>0</th>\n",
       "      <td>강남구</td>\n",
       "      <td>15554</td>\n",
       "    </tr>\n",
       "    <tr>\n",
       "      <th>1</th>\n",
       "      <td>서초구</td>\n",
       "      <td>7938</td>\n",
       "    </tr>\n",
       "    <tr>\n",
       "      <th>2</th>\n",
       "      <td>강서구</td>\n",
       "      <td>7897</td>\n",
       "    </tr>\n",
       "    <tr>\n",
       "      <th>3</th>\n",
       "      <td>중구</td>\n",
       "      <td>7807</td>\n",
       "    </tr>\n",
       "    <tr>\n",
       "      <th>4</th>\n",
       "      <td>마포구</td>\n",
       "      <td>7016</td>\n",
       "    </tr>\n",
       "    <tr>\n",
       "      <th>5</th>\n",
       "      <td>송파구</td>\n",
       "      <td>6825</td>\n",
       "    </tr>\n",
       "    <tr>\n",
       "      <th>6</th>\n",
       "      <td>광진구</td>\n",
       "      <td>6812</td>\n",
       "    </tr>\n",
       "    <tr>\n",
       "      <th>7</th>\n",
       "      <td>영등포구</td>\n",
       "      <td>6481</td>\n",
       "    </tr>\n",
       "    <tr>\n",
       "      <th>8</th>\n",
       "      <td>부산진구</td>\n",
       "      <td>6359</td>\n",
       "    </tr>\n",
       "    <tr>\n",
       "      <th>9</th>\n",
       "      <td>종로구</td>\n",
       "      <td>6009</td>\n",
       "    </tr>\n",
       "  </tbody>\n",
       "</table>\n",
       "</div>"
      ],
      "text/plain": [
       "   시군구명     개수\n",
       "0   강남구  15554\n",
       "1   서초구   7938\n",
       "2   강서구   7897\n",
       "3    중구   7807\n",
       "4   마포구   7016\n",
       "5   송파구   6825\n",
       "6   광진구   6812\n",
       "7  영등포구   6481\n",
       "8  부산진구   6359\n",
       "9   종로구   6009"
      ]
     },
     "execution_count": 116,
     "metadata": {},
     "output_type": "execute_result"
    }
   ],
   "source": [
    "#음식 업종은 어느 지역에 가장 많은지?\n",
    "df_food = df[(df[\"상권업종대분류명\"] == \"음식\")][\"시군구명\"].value_counts()\n",
    "df_food = df_food.reset_index()\n",
    "df_food = df_food.rename(columns={\"index\":\"시군구명\", \"시군구명\":\"개수\"})\n",
    "df_food.head(10)"
   ]
  },
  {
   "cell_type": "code",
   "execution_count": 118,
   "metadata": {},
   "outputs": [
    {
     "data": {
      "text/plain": [
       "<AxesSubplot:xlabel='시군구명', ylabel='개수'>"
      ]
     },
     "execution_count": 118,
     "metadata": {},
     "output_type": "execute_result"
    },
    {
     "data": {
      "image/png": "[encoded data removed]",
      "text/plain": [
       "<Figure size 1080x288 with 1 Axes>"
      ]
     },
     "metadata": {
      "needs_background": "light"
     },
     "output_type": "display_data"
    }
   ],
   "source": [
    "plt.figure(figsize=(15,4))\n",
    "sns.barplot(data=df_food.head(10), x=\"시군구명\", y=\"개수\")"
   ]
  },
  {
   "cell_type": "markdown",
   "metadata": {},
   "source": [
    "### 강남구에서 음식업종"
   ]
  },
  {
   "cell_type": "code",
   "execution_count": 120,
   "metadata": {},
   "outputs": [
    {
     "data": {
      "text/html": [
       "<div>\n",
       "<style scoped>\n",
       "    .dataframe tbody tr th:only-of-type {\n",
       "        vertical-align: middle;\n",
       "    }\n",
       "\n",
       "    .dataframe tbody tr th {\n",
       "        vertical-align: top;\n",
       "    }\n",
       "\n",
       "    .dataframe thead th {\n",
       "        text-align: right;\n",
       "    }\n",
       "</style>\n",
       "<table border=\"1\" class=\"dataframe\">\n",
       "  <thead>\n",
       "    <tr style=\"text-align: right;\">\n",
       "      <th></th>\n",
       "      <th>상권업종소분류명</th>\n",
       "      <th>개수</th>\n",
       "    </tr>\n",
       "  </thead>\n",
       "  <tbody>\n",
       "    <tr>\n",
       "      <th>0</th>\n",
       "      <td>한식/백반/한정식</td>\n",
       "      <td>3151</td>\n",
       "    </tr>\n",
       "    <tr>\n",
       "      <th>1</th>\n",
       "      <td>커피전문점/카페/다방</td>\n",
       "      <td>2727</td>\n",
       "    </tr>\n",
       "    <tr>\n",
       "      <th>2</th>\n",
       "      <td>정통양식/경양식</td>\n",
       "      <td>1213</td>\n",
       "    </tr>\n",
       "    <tr>\n",
       "      <th>3</th>\n",
       "      <td>라면김밥분식</td>\n",
       "      <td>754</td>\n",
       "    </tr>\n",
       "    <tr>\n",
       "      <th>4</th>\n",
       "      <td>호프/맥주</td>\n",
       "      <td>589</td>\n",
       "    </tr>\n",
       "    <tr>\n",
       "      <th>5</th>\n",
       "      <td>음식점-일식</td>\n",
       "      <td>551</td>\n",
       "    </tr>\n",
       "    <tr>\n",
       "      <th>6</th>\n",
       "      <td>제과점</td>\n",
       "      <td>541</td>\n",
       "    </tr>\n",
       "    <tr>\n",
       "      <th>7</th>\n",
       "      <td>갈비/삼겹살</td>\n",
       "      <td>424</td>\n",
       "    </tr>\n",
       "    <tr>\n",
       "      <th>8</th>\n",
       "      <td>룸살롱/단란주점</td>\n",
       "      <td>395</td>\n",
       "    </tr>\n",
       "    <tr>\n",
       "      <th>9</th>\n",
       "      <td>후라이드/양념치킨</td>\n",
       "      <td>386</td>\n",
       "    </tr>\n",
       "  </tbody>\n",
       "</table>\n",
       "</div>"
      ],
      "text/plain": [
       "      상권업종소분류명    개수\n",
       "0    한식/백반/한정식  3151\n",
       "1  커피전문점/카페/다방  2727\n",
       "2     정통양식/경양식  1213\n",
       "3       라면김밥분식   754\n",
       "4        호프/맥주   589\n",
       "5       음식점-일식   551\n",
       "6          제과점   541\n",
       "7       갈비/삼겹살   424\n",
       "8     룸살롱/단란주점   395\n",
       "9    후라이드/양념치킨   386"
      ]
     },
     "execution_count": 120,
     "metadata": {},
     "output_type": "execute_result"
    }
   ],
   "source": [
    "#강남구에서 음식업종이 무엇이 있는지\n",
    "df_food_menu = df[(df[\"시군구명\"] == \"강남구\") & (df[\"상권업종대분류명\"] == \"음식\")][\"상권업종소분류명\"].value_counts()\n",
    "df_food_menu = df_food_menu.reset_index()\n",
    "df_food_menu = df_food_menu.rename(columns={\"index\":\"상권업종소분류명\", \"상권업종소분류명\":\"개수\"})\n",
    "df_food_menu.head(10)"
   ]
  },
  {
   "cell_type": "code",
   "execution_count": 122,
   "metadata": {},
   "outputs": [
    {
     "data": {
      "text/plain": [
       "<AxesSubplot:xlabel='상권업종소분류명', ylabel='개수'>"
      ]
     },
     "execution_count": 122,
     "metadata": {},
     "output_type": "execute_result"
    },
    {
     "data": {
      "image/png": "[encoded data removed]",
      "text/plain": [
       "<Figure size 1224x288 with 1 Axes>"
      ]
     },
     "metadata": {
      "needs_background": "light"
     },
     "output_type": "display_data"
    }
   ],
   "source": [
    "plt.figure(figsize=(17,4))\n",
    "sns.barplot(data=df_food_menu.head(10), x=\"상권업종소분류명\", y=\"개수\")"
   ]
  },
  {
   "cell_type": "markdown",
   "metadata": {},
   "source": [
    "## 서울에서 부동산업종은 어느 지역에 많은까?"
   ]
  },
  {
   "cell_type": "code",
   "execution_count": 125,
   "metadata": {
    "scrolled": true
   },
   "outputs": [
    {
     "data": {
      "text/html": [
       "<div>\n",
       "<style scoped>\n",
       "    .dataframe tbody tr th:only-of-type {\n",
       "        vertical-align: middle;\n",
       "    }\n",
       "\n",
       "    .dataframe tbody tr th {\n",
       "        vertical-align: top;\n",
       "    }\n",
       "\n",
       "    .dataframe thead th {\n",
       "        text-align: right;\n",
       "    }\n",
       "</style>\n",
       "<table border=\"1\" class=\"dataframe\">\n",
       "  <thead>\n",
       "    <tr style=\"text-align: right;\">\n",
       "      <th></th>\n",
       "      <th>시군구명</th>\n",
       "      <th>개수</th>\n",
       "    </tr>\n",
       "  </thead>\n",
       "  <tbody>\n",
       "    <tr>\n",
       "      <th>0</th>\n",
       "      <td>강남구</td>\n",
       "      <td>2508</td>\n",
       "    </tr>\n",
       "    <tr>\n",
       "      <th>1</th>\n",
       "      <td>서초구</td>\n",
       "      <td>1240</td>\n",
       "    </tr>\n",
       "    <tr>\n",
       "      <th>2</th>\n",
       "      <td>강서구</td>\n",
       "      <td>1219</td>\n",
       "    </tr>\n",
       "    <tr>\n",
       "      <th>3</th>\n",
       "      <td>송파구</td>\n",
       "      <td>930</td>\n",
       "    </tr>\n",
       "    <tr>\n",
       "      <th>4</th>\n",
       "      <td>광진구</td>\n",
       "      <td>923</td>\n",
       "    </tr>\n",
       "    <tr>\n",
       "      <th>5</th>\n",
       "      <td>강동구</td>\n",
       "      <td>761</td>\n",
       "    </tr>\n",
       "    <tr>\n",
       "      <th>6</th>\n",
       "      <td>해운대구</td>\n",
       "      <td>761</td>\n",
       "    </tr>\n",
       "    <tr>\n",
       "      <th>7</th>\n",
       "      <td>영등포구</td>\n",
       "      <td>685</td>\n",
       "    </tr>\n",
       "    <tr>\n",
       "      <th>8</th>\n",
       "      <td>마포구</td>\n",
       "      <td>660</td>\n",
       "    </tr>\n",
       "    <tr>\n",
       "      <th>9</th>\n",
       "      <td>관악구</td>\n",
       "      <td>615</td>\n",
       "    </tr>\n",
       "  </tbody>\n",
       "</table>\n",
       "</div>"
      ],
      "text/plain": [
       "   시군구명    개수\n",
       "0   강남구  2508\n",
       "1   서초구  1240\n",
       "2   강서구  1219\n",
       "3   송파구   930\n",
       "4   광진구   923\n",
       "5   강동구   761\n",
       "6  해운대구   761\n",
       "7  영등포구   685\n",
       "8   마포구   660\n",
       "9   관악구   615"
      ]
     },
     "execution_count": 125,
     "metadata": {},
     "output_type": "execute_result"
    }
   ],
   "source": [
    "#부동산 업종은 어느 지역에 가장 많은지?\n",
    "df_real_estate = df[(df[\"상권업종대분류명\"] == \"부동산\")][\"시군구명\"].value_counts()\n",
    "df_real_estate.head(5)\n",
    "df_real_estate = df_real_estate.reset_index()\n",
    "df_real_estate = df_real_estate.rename(columns={\"index\":\"시군구명\", \"시군구명\":\"개수\"})\n",
    "df_real_estate.head(10)"
   ]
  },
  {
   "cell_type": "markdown",
   "metadata": {},
   "source": [
    "### 강남구에서 부동산업종"
   ]
  },
  {
   "cell_type": "code",
   "execution_count": 126,
   "metadata": {},
   "outputs": [
    {
     "data": {
      "text/html": [
       "<div>\n",
       "<style scoped>\n",
       "    .dataframe tbody tr th:only-of-type {\n",
       "        vertical-align: middle;\n",
       "    }\n",
       "\n",
       "    .dataframe tbody tr th {\n",
       "        vertical-align: top;\n",
       "    }\n",
       "\n",
       "    .dataframe thead th {\n",
       "        text-align: right;\n",
       "    }\n",
       "</style>\n",
       "<table border=\"1\" class=\"dataframe\">\n",
       "  <thead>\n",
       "    <tr style=\"text-align: right;\">\n",
       "      <th></th>\n",
       "      <th>상권업종소분류명</th>\n",
       "      <th>개수</th>\n",
       "    </tr>\n",
       "  </thead>\n",
       "  <tbody>\n",
       "    <tr>\n",
       "      <th>0</th>\n",
       "      <td>부동산중개</td>\n",
       "      <td>2097</td>\n",
       "    </tr>\n",
       "    <tr>\n",
       "      <th>1</th>\n",
       "      <td>건물분양-종합</td>\n",
       "      <td>270</td>\n",
       "    </tr>\n",
       "    <tr>\n",
       "      <th>2</th>\n",
       "      <td>주택공급</td>\n",
       "      <td>73</td>\n",
       "    </tr>\n",
       "    <tr>\n",
       "      <th>3</th>\n",
       "      <td>부동산자문</td>\n",
       "      <td>50</td>\n",
       "    </tr>\n",
       "    <tr>\n",
       "      <th>4</th>\n",
       "      <td>부동산감정평가</td>\n",
       "      <td>14</td>\n",
       "    </tr>\n",
       "    <tr>\n",
       "      <th>5</th>\n",
       "      <td>상가분양</td>\n",
       "      <td>3</td>\n",
       "    </tr>\n",
       "    <tr>\n",
       "      <th>6</th>\n",
       "      <td>부동산신탁</td>\n",
       "      <td>1</td>\n",
       "    </tr>\n",
       "  </tbody>\n",
       "</table>\n",
       "</div>"
      ],
      "text/plain": [
       "  상권업종소분류명    개수\n",
       "0    부동산중개  2097\n",
       "1  건물분양-종합   270\n",
       "2     주택공급    73\n",
       "3    부동산자문    50\n",
       "4  부동산감정평가    14\n",
       "5     상가분양     3\n",
       "6    부동산신탁     1"
      ]
     },
     "execution_count": 126,
     "metadata": {},
     "output_type": "execute_result"
    }
   ],
   "source": [
    "#강남구에서 부동산업종이 무엇이 있는지\n",
    "df_real_estate_kind = df[(df[\"시군구명\"] == \"강남구\") & (df[\"상권업종대분류명\"] == \"부동산\")][\"상권업종소분류명\"].value_counts()\n",
    "df_real_estate_kind = df_real_estate_kind.reset_index()\n",
    "df_real_estate_kind = df_real_estate_kind.rename(columns={\"index\":\"상권업종소분류명\", \"상권업종소분류명\":\"개수\"})\n",
    "df_real_estate_kind.head(10)"
   ]
  },
  {
   "cell_type": "code",
   "execution_count": 127,
   "metadata": {},
   "outputs": [
    {
     "data": {
      "text/plain": [
       "<AxesSubplot:xlabel='상권업종소분류명', ylabel='개수'>"
      ]
     },
     "execution_count": 127,
     "metadata": {},
     "output_type": "execute_result"
    },
    {
     "data": {
      "image/png": "[encoded data removed]",
      "text/plain": [
       "<Figure size 1224x288 with 1 Axes>"
      ]
     },
     "metadata": {
      "needs_background": "light"
     },
     "output_type": "display_data"
    }
   ],
   "source": [
    "plt.figure(figsize=(17,4))\n",
    "sns.barplot(data=df_real_estate_kind.head(10), x=\"상권업종소분류명\", y=\"개수\")"
   ]
  },
  {
   "cell_type": "markdown",
   "metadata": {},
   "source": [
    "## 서울에서 학문/교육 업종은 어느 지역에 많을까?"
   ]
  },
  {
   "cell_type": "code",
   "execution_count": 128,
   "metadata": {
    "scrolled": true
   },
   "outputs": [
    {
     "data": {
      "text/html": [
       "<div>\n",
       "<style scoped>\n",
       "    .dataframe tbody tr th:only-of-type {\n",
       "        vertical-align: middle;\n",
       "    }\n",
       "\n",
       "    .dataframe tbody tr th {\n",
       "        vertical-align: top;\n",
       "    }\n",
       "\n",
       "    .dataframe thead th {\n",
       "        text-align: right;\n",
       "    }\n",
       "</style>\n",
       "<table border=\"1\" class=\"dataframe\">\n",
       "  <thead>\n",
       "    <tr style=\"text-align: right;\">\n",
       "      <th></th>\n",
       "      <th>시군구명</th>\n",
       "      <th>개수</th>\n",
       "    </tr>\n",
       "  </thead>\n",
       "  <tbody>\n",
       "    <tr>\n",
       "      <th>0</th>\n",
       "      <td>강남구</td>\n",
       "      <td>4005</td>\n",
       "    </tr>\n",
       "    <tr>\n",
       "      <th>1</th>\n",
       "      <td>서초구</td>\n",
       "      <td>2103</td>\n",
       "    </tr>\n",
       "    <tr>\n",
       "      <th>2</th>\n",
       "      <td>양천구</td>\n",
       "      <td>1881</td>\n",
       "    </tr>\n",
       "    <tr>\n",
       "      <th>3</th>\n",
       "      <td>광진구</td>\n",
       "      <td>1848</td>\n",
       "    </tr>\n",
       "    <tr>\n",
       "      <th>4</th>\n",
       "      <td>송파구</td>\n",
       "      <td>1797</td>\n",
       "    </tr>\n",
       "    <tr>\n",
       "      <th>5</th>\n",
       "      <td>강서구</td>\n",
       "      <td>1744</td>\n",
       "    </tr>\n",
       "    <tr>\n",
       "      <th>6</th>\n",
       "      <td>강동구</td>\n",
       "      <td>1585</td>\n",
       "    </tr>\n",
       "    <tr>\n",
       "      <th>7</th>\n",
       "      <td>노원구</td>\n",
       "      <td>1582</td>\n",
       "    </tr>\n",
       "    <tr>\n",
       "      <th>8</th>\n",
       "      <td>해운대구</td>\n",
       "      <td>1525</td>\n",
       "    </tr>\n",
       "    <tr>\n",
       "      <th>9</th>\n",
       "      <td>은평구</td>\n",
       "      <td>1333</td>\n",
       "    </tr>\n",
       "  </tbody>\n",
       "</table>\n",
       "</div>"
      ],
      "text/plain": [
       "   시군구명    개수\n",
       "0   강남구  4005\n",
       "1   서초구  2103\n",
       "2   양천구  1881\n",
       "3   광진구  1848\n",
       "4   송파구  1797\n",
       "5   강서구  1744\n",
       "6   강동구  1585\n",
       "7   노원구  1582\n",
       "8  해운대구  1525\n",
       "9   은평구  1333"
      ]
     },
     "execution_count": 128,
     "metadata": {},
     "output_type": "execute_result"
    }
   ],
   "source": [
    "#학문/교육 업종은 어느 지역에 가장 많은지?\n",
    "df_study = df[(df[\"상권업종대분류명\"] == \"학문/교육\")][\"시군구명\"].value_counts()\n",
    "df_study = df_study.reset_index()\n",
    "df_study = df_study.rename(columns={\"index\":\"시군구명\", \"시군구명\":\"개수\"})\n",
    "df_study.head(10)"
   ]
  },
  {
   "cell_type": "code",
   "execution_count": 123,
   "metadata": {},
   "outputs": [
    {
     "data": {
      "text/plain": [
       "<AxesSubplot:xlabel='시군구명', ylabel='개수'>"
      ]
     },
     "execution_count": 123,
     "metadata": {},
     "output_type": "execute_result"
    },
    {
     "data": {
      "image/png": "[encoded data removed]",
      "text/plain": [
       "<Figure size 1080x288 with 1 Axes>"
      ]
     },
     "metadata": {
      "needs_background": "light"
     },
     "output_type": "display_data"
    }
   ],
   "source": [
    "#인덱스 그래프로\n",
    "plt.figure(figsize=(15,4))\n",
    "sns.barplot(data=study.head(10), x=\"시군구명\", y=\"개수\")"
   ]
  },
  {
   "cell_type": "markdown",
   "metadata": {},
   "source": [
    "### 강남구에서 어느 동에 많은가?"
   ]
  },
  {
   "cell_type": "code",
   "execution_count": 96,
   "metadata": {},
   "outputs": [
    {
     "data": {
      "text/html": [
       "<div>\n",
       "<style scoped>\n",
       "    .dataframe tbody tr th:only-of-type {\n",
       "        vertical-align: middle;\n",
       "    }\n",
       "\n",
       "    .dataframe tbody tr th {\n",
       "        vertical-align: top;\n",
       "    }\n",
       "\n",
       "    .dataframe thead th {\n",
       "        text-align: right;\n",
       "    }\n",
       "</style>\n",
       "<table border=\"1\" class=\"dataframe\">\n",
       "  <thead>\n",
       "    <tr style=\"text-align: right;\">\n",
       "      <th></th>\n",
       "      <th>법정동명</th>\n",
       "      <th>개수</th>\n",
       "    </tr>\n",
       "  </thead>\n",
       "  <tbody>\n",
       "    <tr>\n",
       "      <th>0</th>\n",
       "      <td>대치동</td>\n",
       "      <td>1724</td>\n",
       "    </tr>\n",
       "    <tr>\n",
       "      <th>1</th>\n",
       "      <td>역삼동</td>\n",
       "      <td>607</td>\n",
       "    </tr>\n",
       "    <tr>\n",
       "      <th>2</th>\n",
       "      <td>신사동</td>\n",
       "      <td>381</td>\n",
       "    </tr>\n",
       "    <tr>\n",
       "      <th>3</th>\n",
       "      <td>개포동</td>\n",
       "      <td>289</td>\n",
       "    </tr>\n",
       "    <tr>\n",
       "      <th>4</th>\n",
       "      <td>도곡동</td>\n",
       "      <td>260</td>\n",
       "    </tr>\n",
       "  </tbody>\n",
       "</table>\n",
       "</div>"
      ],
      "text/plain": [
       "  법정동명    개수\n",
       "0  대치동  1724\n",
       "1  역삼동   607\n",
       "2  신사동   381\n",
       "3  개포동   289\n",
       "4  도곡동   260"
      ]
     },
     "execution_count": 96,
     "metadata": {},
     "output_type": "execute_result"
    }
   ],
   "source": [
    "#강남구안에 무슨 동에 많이 있는지\n",
    "df_study_dong = df[(df[\"시군구명\"] == \"강남구\") & (df[\"상권업종대분류명\"] == \"학문/교육\")][\"법정동명\"].value_counts()\n",
    "df_study_dong = df_study_dong.reset_index()\n",
    "df_study_dong = df_study_dong.rename(columns={\"index\":\"법정동명\", \"법정동명\":\"개수\"})\n",
    "df_study_dong.head(5)"
   ]
  },
  {
   "cell_type": "markdown",
   "metadata": {},
   "source": [
    "### 강남구에서 학문/교육 업종"
   ]
  },
  {
   "cell_type": "code",
   "execution_count": 129,
   "metadata": {},
   "outputs": [
    {
     "data": {
      "text/html": [
       "<div>\n",
       "<style scoped>\n",
       "    .dataframe tbody tr th:only-of-type {\n",
       "        vertical-align: middle;\n",
       "    }\n",
       "\n",
       "    .dataframe tbody tr th {\n",
       "        vertical-align: top;\n",
       "    }\n",
       "\n",
       "    .dataframe thead th {\n",
       "        text-align: right;\n",
       "    }\n",
       "</style>\n",
       "<table border=\"1\" class=\"dataframe\">\n",
       "  <thead>\n",
       "    <tr style=\"text-align: right;\">\n",
       "      <th></th>\n",
       "      <th>상권업종소분류명</th>\n",
       "      <th>개수</th>\n",
       "    </tr>\n",
       "  </thead>\n",
       "  <tbody>\n",
       "    <tr>\n",
       "      <th>0</th>\n",
       "      <td>학원-입시</td>\n",
       "      <td>1241</td>\n",
       "    </tr>\n",
       "    <tr>\n",
       "      <th>1</th>\n",
       "      <td>학원-외국어/어학</td>\n",
       "      <td>667</td>\n",
       "    </tr>\n",
       "    <tr>\n",
       "      <th>2</th>\n",
       "      <td>학원(종합)</td>\n",
       "      <td>564</td>\n",
       "    </tr>\n",
       "    <tr>\n",
       "      <th>3</th>\n",
       "      <td>피아노/바이올린/기타</td>\n",
       "      <td>266</td>\n",
       "    </tr>\n",
       "    <tr>\n",
       "      <th>4</th>\n",
       "      <td>서예/서화/미술</td>\n",
       "      <td>219</td>\n",
       "    </tr>\n",
       "    <tr>\n",
       "      <th>5</th>\n",
       "      <td>어린이집</td>\n",
       "      <td>189</td>\n",
       "    </tr>\n",
       "    <tr>\n",
       "      <th>6</th>\n",
       "      <td>고시원</td>\n",
       "      <td>139</td>\n",
       "    </tr>\n",
       "    <tr>\n",
       "      <th>7</th>\n",
       "      <td>독서실</td>\n",
       "      <td>125</td>\n",
       "    </tr>\n",
       "    <tr>\n",
       "      <th>8</th>\n",
       "      <td>학원-기타</td>\n",
       "      <td>101</td>\n",
       "    </tr>\n",
       "    <tr>\n",
       "      <th>9</th>\n",
       "      <td>학원-배우/탤런트</td>\n",
       "      <td>41</td>\n",
       "    </tr>\n",
       "  </tbody>\n",
       "</table>\n",
       "</div>"
      ],
      "text/plain": [
       "      상권업종소분류명    개수\n",
       "0        학원-입시  1241\n",
       "1    학원-외국어/어학   667\n",
       "2       학원(종합)   564\n",
       "3  피아노/바이올린/기타   266\n",
       "4     서예/서화/미술   219\n",
       "5         어린이집   189\n",
       "6          고시원   139\n",
       "7          독서실   125\n",
       "8        학원-기타   101\n",
       "9    학원-배우/탤런트    41"
      ]
     },
     "execution_count": 129,
     "metadata": {},
     "output_type": "execute_result"
    }
   ],
   "source": [
    "#강남구에 학문/교욱업종엔 무엇이 있는지\n",
    "df_study_kind = df[(df[\"시군구명\"] == \"강남구\") & (df[\"상권업종대분류명\"] == \"학문/교육\")][\"상권업종소분류명\"].value_counts().head(30)\n",
    "df_study_kind = df_study_kind.reset_index()\n",
    "df_study_kind = df_study_kind.rename(columns={\"index\":\"상권업종소분류명\", \"상권업종소분류명\":\"개수\"})\n",
    "df_study_kind.head(10)"
   ]
  },
  {
   "cell_type": "code",
   "execution_count": 131,
   "metadata": {},
   "outputs": [
    {
     "data": {
      "text/plain": [
       "<AxesSubplot:xlabel='상권업종소분류명', ylabel='개수'>"
      ]
     },
     "execution_count": 131,
     "metadata": {},
     "output_type": "execute_result"
    },
    {
     "data": {
      "image/png": "[encoded data removed]",
      "text/plain": [
       "<Figure size 1080x288 with 1 Axes>"
      ]
     },
     "metadata": {
      "needs_background": "light"
     },
     "output_type": "display_data"
    }
   ],
   "source": [
    "plt.figure(figsize=(15,4))\n",
    "sns.barplot(data=df_study_kind.head(10), x=\"상권업종소분류명\", y=\"개수\")"
   ]
  },
  {
   "cell_type": "markdown",
   "metadata": {},
   "source": [
    "## 서울에서 의료 업종은 어느 지역에 많을까?"
   ]
  },
  {
   "cell_type": "code",
   "execution_count": 134,
   "metadata": {
    "scrolled": true
   },
   "outputs": [
    {
     "data": {
      "text/html": [
       "<div>\n",
       "<style scoped>\n",
       "    .dataframe tbody tr th:only-of-type {\n",
       "        vertical-align: middle;\n",
       "    }\n",
       "\n",
       "    .dataframe tbody tr th {\n",
       "        vertical-align: top;\n",
       "    }\n",
       "\n",
       "    .dataframe thead th {\n",
       "        text-align: right;\n",
       "    }\n",
       "</style>\n",
       "<table border=\"1\" class=\"dataframe\">\n",
       "  <thead>\n",
       "    <tr style=\"text-align: right;\">\n",
       "      <th></th>\n",
       "      <th>시군구명</th>\n",
       "      <th>개수</th>\n",
       "    </tr>\n",
       "  </thead>\n",
       "  <tbody>\n",
       "    <tr>\n",
       "      <th>0</th>\n",
       "      <td>강남구</td>\n",
       "      <td>3136</td>\n",
       "    </tr>\n",
       "    <tr>\n",
       "      <th>1</th>\n",
       "      <td>서초구</td>\n",
       "      <td>1495</td>\n",
       "    </tr>\n",
       "    <tr>\n",
       "      <th>2</th>\n",
       "      <td>동대문구</td>\n",
       "      <td>1155</td>\n",
       "    </tr>\n",
       "    <tr>\n",
       "      <th>3</th>\n",
       "      <td>송파구</td>\n",
       "      <td>1026</td>\n",
       "    </tr>\n",
       "    <tr>\n",
       "      <th>4</th>\n",
       "      <td>광진구</td>\n",
       "      <td>938</td>\n",
       "    </tr>\n",
       "    <tr>\n",
       "      <th>5</th>\n",
       "      <td>강서구</td>\n",
       "      <td>807</td>\n",
       "    </tr>\n",
       "    <tr>\n",
       "      <th>6</th>\n",
       "      <td>은평구</td>\n",
       "      <td>742</td>\n",
       "    </tr>\n",
       "    <tr>\n",
       "      <th>7</th>\n",
       "      <td>노원구</td>\n",
       "      <td>742</td>\n",
       "    </tr>\n",
       "    <tr>\n",
       "      <th>8</th>\n",
       "      <td>영등포구</td>\n",
       "      <td>734</td>\n",
       "    </tr>\n",
       "    <tr>\n",
       "      <th>9</th>\n",
       "      <td>성북구</td>\n",
       "      <td>712</td>\n",
       "    </tr>\n",
       "  </tbody>\n",
       "</table>\n",
       "</div>"
      ],
      "text/plain": [
       "   시군구명    개수\n",
       "0   강남구  3136\n",
       "1   서초구  1495\n",
       "2  동대문구  1155\n",
       "3   송파구  1026\n",
       "4   광진구   938\n",
       "5   강서구   807\n",
       "6   은평구   742\n",
       "7   노원구   742\n",
       "8  영등포구   734\n",
       "9   성북구   712"
      ]
     },
     "execution_count": 134,
     "metadata": {},
     "output_type": "execute_result"
    }
   ],
   "source": [
    "#의료 업종은 어느 지역에 가장 많은지?\n",
    "df_medic = df[(df[\"시도명\"] ==\"서울특별시\") & (df[\"상권업종대분류명\"] == \"의료\")][\"시군구명\"].value_counts()\n",
    "df_medic = df_medic.reset_index()\n",
    "df_medic = df_medic.rename(columns={\"index\":\"시군구명\", \"시군구명\":\"개수\"})\n",
    "df_medic.head(10)"
   ]
  },
  {
   "cell_type": "markdown",
   "metadata": {},
   "source": [
    "### 강남구에서 의료 업종"
   ]
  },
  {
   "cell_type": "code",
   "execution_count": 133,
   "metadata": {},
   "outputs": [
    {
     "data": {
      "text/html": [
       "<div>\n",
       "<style scoped>\n",
       "    .dataframe tbody tr th:only-of-type {\n",
       "        vertical-align: middle;\n",
       "    }\n",
       "\n",
       "    .dataframe tbody tr th {\n",
       "        vertical-align: top;\n",
       "    }\n",
       "\n",
       "    .dataframe thead th {\n",
       "        text-align: right;\n",
       "    }\n",
       "</style>\n",
       "<table border=\"1\" class=\"dataframe\">\n",
       "  <thead>\n",
       "    <tr style=\"text-align: right;\">\n",
       "      <th></th>\n",
       "      <th>상권업종소분류명</th>\n",
       "      <th>개수</th>\n",
       "    </tr>\n",
       "  </thead>\n",
       "  <tbody>\n",
       "    <tr>\n",
       "      <th>0</th>\n",
       "      <td>치과의원</td>\n",
       "      <td>497</td>\n",
       "    </tr>\n",
       "    <tr>\n",
       "      <th>1</th>\n",
       "      <td>정형/성형외과</td>\n",
       "      <td>448</td>\n",
       "    </tr>\n",
       "    <tr>\n",
       "      <th>2</th>\n",
       "      <td>약국</td>\n",
       "      <td>374</td>\n",
       "    </tr>\n",
       "    <tr>\n",
       "      <th>3</th>\n",
       "      <td>한의원</td>\n",
       "      <td>370</td>\n",
       "    </tr>\n",
       "    <tr>\n",
       "      <th>4</th>\n",
       "      <td>내과/외과</td>\n",
       "      <td>364</td>\n",
       "    </tr>\n",
       "    <tr>\n",
       "      <th>5</th>\n",
       "      <td>기타병원</td>\n",
       "      <td>210</td>\n",
       "    </tr>\n",
       "    <tr>\n",
       "      <th>6</th>\n",
       "      <td>일반병원</td>\n",
       "      <td>167</td>\n",
       "    </tr>\n",
       "    <tr>\n",
       "      <th>7</th>\n",
       "      <td>피부과</td>\n",
       "      <td>160</td>\n",
       "    </tr>\n",
       "    <tr>\n",
       "      <th>8</th>\n",
       "      <td>안과의원</td>\n",
       "      <td>77</td>\n",
       "    </tr>\n",
       "    <tr>\n",
       "      <th>9</th>\n",
       "      <td>동물병원</td>\n",
       "      <td>71</td>\n",
       "    </tr>\n",
       "  </tbody>\n",
       "</table>\n",
       "</div>"
      ],
      "text/plain": [
       "  상권업종소분류명   개수\n",
       "0     치과의원  497\n",
       "1  정형/성형외과  448\n",
       "2       약국  374\n",
       "3      한의원  370\n",
       "4    내과/외과  364\n",
       "5     기타병원  210\n",
       "6     일반병원  167\n",
       "7      피부과  160\n",
       "8     안과의원   77\n",
       "9     동물병원   71"
      ]
     },
     "execution_count": 133,
     "metadata": {},
     "output_type": "execute_result"
    }
   ],
   "source": [
    "df_medic_kind = df[(df[\"시군구명\"] == \"강남구\") & (df[\"상권업종대분류명\"] == \"의료\")][\"상권업종소분류명\"].value_counts()\n",
    "df_medic_kind = df_medic_kind.reset_index()\n",
    "df_medic_kind = df_medic_kind.rename(columns={\"index\":\"상권업종소분류명\", \"상권업종소분류명\":\"개수\"})\n",
    "df_medic_kind.head(10)"
   ]
  },
  {
   "cell_type": "code",
   "execution_count": 135,
   "metadata": {},
   "outputs": [
    {
     "data": {
      "text/plain": [
       "<AxesSubplot:xlabel='상권업종소분류명', ylabel='개수'>"
      ]
     },
     "execution_count": 135,
     "metadata": {},
     "output_type": "execute_result"
    },
    {
     "data": {
      "image/png": "[encoded data removed]",
      "text/plain": [
       "<Figure size 1080x288 with 1 Axes>"
      ]
     },
     "metadata": {
      "needs_background": "light"
     },
     "output_type": "display_data"
    }
   ],
   "source": [
    "plt.figure(figsize=(15,4))\n",
    "sns.barplot(data=df_medic_kind.head(10), x=\"상권업종소분류명\", y=\"개수\")"
   ]
  },
  {
   "cell_type": "code",
   "execution_count": null,
   "metadata": {},
   "outputs": [],
   "source": []
  }
 ],
 "metadata": {
  "kernelspec": {
   "display_name": "Python 3",
   "language": "python",
   "name": "python3"
  },
  "language_info": {
   "codemirror_mode": {
    "name": "ipython",
    "version": 3
   },
   "file_extension": ".py",
   "mimetype": "text/x-python",
   "name": "python",
   "nbconvert_exporter": "python",
   "pygments_lexer": "ipython3",
   "version": "3.8.5"
  },
  "toc": {
   "base_numbering": 1,
   "nav_menu": {},
   "number_sections": true,
   "sideBar": true,
   "skip_h1_title": false,
   "title_cell": "Table of Contents",
   "title_sidebar": "Contents",
   "toc_cell": false,
   "toc_position": {},
   "toc_section_display": true,
   "toc_window_display": true
  }
 },
 "nbformat": 4,
 "nbformat_minor": 4
}
